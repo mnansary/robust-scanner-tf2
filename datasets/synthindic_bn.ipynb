{
 "cells": [
  {
   "cell_type": "markdown",
   "metadata": {},
   "source": [
    "# Converting data.csv to data.txt for synthindic"
   ]
  },
  {
   "cell_type": "code",
   "execution_count": 1,
   "metadata": {},
   "outputs": [
    {
     "name": "stdout",
     "output_type": "stream",
     "text": [
      "writing data to: /backup2/STYLE_OCR/res/dataset/test/data/data.txt\n"
     ]
    },
    {
     "data": {
      "application/vnd.jupyter.widget-view+json": {
       "model_id": "ca0c6cb6c42c460d8e2c532fdf2833bf",
       "version_major": 2,
       "version_minor": 0
      },
      "text/plain": [
       "  0%|          | 0/26741 [00:00<?, ?it/s]"
      ]
     },
     "metadata": {},
     "output_type": "display_data"
    },
    {
     "name": "stdout",
     "output_type": "stream",
     "text": [
      "writing data to: /backup2/STYLE_OCR/res/dataset/train/data/data.txt\n"
     ]
    },
    {
     "data": {
      "application/vnd.jupyter.widget-view+json": {
       "model_id": "a79584b13e7045bfb2a86ec76923b7e0",
       "version_major": 2,
       "version_minor": 0
      },
      "text/plain": [
       "  0%|          | 0/789989 [00:00<?, ?it/s]"
      ]
     },
     "metadata": {},
     "output_type": "display_data"
    }
   ],
   "source": [
    "import pandas as pd\n",
    "import os\n",
    "from tqdm.auto import tqdm\n",
    "tqdm.pandas() \n",
    "data_csvs=[\"/backup2/STYLE_OCR/res/dataset/test/data/data.csv\",\n",
    "           \"/backup2/STYLE_OCR/res/dataset/train/data/data.csv\"]\n",
    "for data_csv in data_csvs:\n",
    "    src=os.path.dirname(data_csv)\n",
    "    sdf=pd.read_csv(data_csv)\n",
    "    print(\"writing data to:\",os.path.join(src,\"data.txt\"))\n",
    "    with open(os.path.join(src,\"data.txt\"),\"w+\") as f:\n",
    "        for idx in tqdm(range(len(sdf))):\n",
    "            fpath=sdf.iloc[idx,0]\n",
    "            word=sdf.iloc[idx,1]\n",
    "            f.write(f\"{fpath}\\t{word}\\n\")\n"
   ]
  },
  {
   "cell_type": "code",
   "execution_count": null,
   "metadata": {},
   "outputs": [],
   "source": []
  }
 ],
 "metadata": {
  "kernelspec": {
   "display_name": "Python 3.8.5 ('bangla')",
   "language": "python",
   "name": "python3"
  },
  "language_info": {
   "codemirror_mode": {
    "name": "ipython",
    "version": 3
   },
   "file_extension": ".py",
   "mimetype": "text/x-python",
   "name": "python",
   "nbconvert_exporter": "python",
   "pygments_lexer": "ipython3",
   "version": "3.8.5"
  },
  "orig_nbformat": 4,
  "vscode": {
   "interpreter": {
    "hash": "83cb0fe33a0a67f9f877ffb776c4b7cce63e124f7ba47fe6878fb868bcc96314"
   }
  }
 },
 "nbformat": 4,
 "nbformat_minor": 2
}
