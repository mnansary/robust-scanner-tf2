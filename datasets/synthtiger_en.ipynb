{
 "cells": [
  {
   "cell_type": "markdown",
   "metadata": {},
   "source": [
    "# Collect all the image paths and label text from gt.txt"
   ]
  },
  {
   "cell_type": "code",
   "execution_count": 1,
   "metadata": {},
   "outputs": [
    {
     "data": {
      "application/vnd.jupyter.widget-view+json": {
       "model_id": "029005b86a404371b03305e6c3cddd40",
       "version_major": 2,
       "version_minor": 0
      },
      "text/plain": [
       "  0%|          | 0/1 [00:00<?, ?it/s]"
      ]
     },
     "metadata": {},
     "output_type": "display_data"
    },
    {
     "name": "stdout",
     "output_type": "stream",
     "text": [
      "/backup2/synthtiger/english/gt.txt has : 10000000  data\n"
     ]
    },
    {
     "data": {
      "application/vnd.jupyter.widget-view+json": {
       "model_id": "1569ad98583f4d818deb508bbe96b53c",
       "version_major": 2,
       "version_minor": 0
      },
      "text/plain": [
       "  0%|          | 0/10000000 [00:00<?, ?it/s]"
      ]
     },
     "metadata": {},
     "output_type": "display_data"
    }
   ],
   "source": [
    "import os \n",
    "import pandas as pd \n",
    "from glob import glob \n",
    "from tqdm.auto import tqdm\n",
    "\n",
    "dirs=[  '/backup2/synthtiger/english/']\n",
    "\n",
    "image_paths=[]\n",
    "labels=[]\n",
    "for _dir in tqdm(dirs):\n",
    "    _txt=os.path.join(_dir,\"gt.txt\")\n",
    "    with open(_txt,\"r\") as f:\n",
    "        lines=f.readlines()\n",
    "    print(_txt, \"has :\",len(lines),\" data\")\n",
    "    for line in tqdm(lines):\n",
    "        if line.strip():\n",
    "            if len(line.split(\"\\t\"))==2:\n",
    "                line=line.replace(\"\\n\",\"\")\n",
    "                _path,_label=line.split(\"\\t\")\n",
    "                _path=_dir+_path\n",
    "                image_paths.append(_path)\n",
    "                labels.append(_label)\n",
    "            \n"
   ]
  },
  {
   "cell_type": "markdown",
   "metadata": {},
   "source": [
    "# List all charecters"
   ]
  },
  {
   "cell_type": "code",
   "execution_count": 2,
   "metadata": {},
   "outputs": [
    {
     "data": {
      "application/vnd.jupyter.widget-view+json": {
       "model_id": "4ac9ad3489d64fb1b07b3e1ec3c87d35",
       "version_major": 2,
       "version_minor": 0
      },
      "text/plain": [
       "  0%|          | 0/10000000 [00:00<?, ?it/s]"
      ]
     },
     "metadata": {},
     "output_type": "display_data"
    },
    {
     "name": "stdout",
     "output_type": "stream",
     "text": [
      "\n",
      "'C','I','R','U','M','E','N','T','S','l','a','c','k','e','n','d','m','t','h','o',\n",
      "'.','F','L','A','V','O',''','i','f','u','4','5','b','y','r','Q','(',')',',','Y',\n",
      "'_','v','G','H','s','$','p','g','D','K','w','B','P',':','@','j','W','8','-','z',\n",
      "'6','1','9','3','x','X','q','2','0','>','7','!','#','\\','\"','/','*','[','J','|',\n",
      "';','Z','?','<',']','+','=','^','%','{','&','}','~','`',"
     ]
    }
   ],
   "source": [
    "chars=[]\n",
    "for label in tqdm(labels):\n",
    "    for c in label:\n",
    "        if c not in chars:\n",
    "            chars.append(c)\n",
    "for idx,c in enumerate(chars):\n",
    "    if idx%20==0:\n",
    "        print()\n",
    "    print(f\"'{c}'\",end=',')\n"
   ]
  },
  {
   "cell_type": "markdown",
   "metadata": {},
   "source": [
    "# Saving data.txt\n",
    "* vocabs cover all the data"
   ]
  },
  {
   "cell_type": "code",
   "execution_count": 3,
   "metadata": {},
   "outputs": [
    {
     "data": {
      "text/html": [
       "<div>\n",
       "<style scoped>\n",
       "    .dataframe tbody tr th:only-of-type {\n",
       "        vertical-align: middle;\n",
       "    }\n",
       "\n",
       "    .dataframe tbody tr th {\n",
       "        vertical-align: top;\n",
       "    }\n",
       "\n",
       "    .dataframe thead th {\n",
       "        text-align: right;\n",
       "    }\n",
       "</style>\n",
       "<table border=\"1\" class=\"dataframe\">\n",
       "  <thead>\n",
       "    <tr style=\"text-align: right;\">\n",
       "      <th></th>\n",
       "      <th>filepath</th>\n",
       "      <th>word</th>\n",
       "    </tr>\n",
       "  </thead>\n",
       "  <tbody>\n",
       "    <tr>\n",
       "      <th>0</th>\n",
       "      <td>/backup2/synthtiger/english/images/0/0.jpg</td>\n",
       "      <td>CIRCUMCENTER</td>\n",
       "    </tr>\n",
       "    <tr>\n",
       "      <th>1</th>\n",
       "      <td>/backup2/synthtiger/english/images/0/1.jpg</td>\n",
       "      <td>Slackened</td>\n",
       "    </tr>\n",
       "    <tr>\n",
       "      <th>2</th>\n",
       "      <td>/backup2/synthtiger/english/images/0/2.jpg</td>\n",
       "      <td>method.</td>\n",
       "    </tr>\n",
       "    <tr>\n",
       "      <th>3</th>\n",
       "      <td>/backup2/synthtiger/english/images/0/3.jpg</td>\n",
       "      <td>tel</td>\n",
       "    </tr>\n",
       "    <tr>\n",
       "      <th>4</th>\n",
       "      <td>/backup2/synthtiger/english/images/0/4.jpg</td>\n",
       "      <td>FLAVOR</td>\n",
       "    </tr>\n",
       "    <tr>\n",
       "      <th>...</th>\n",
       "      <td>...</td>\n",
       "      <td>...</td>\n",
       "    </tr>\n",
       "    <tr>\n",
       "      <th>9999995</th>\n",
       "      <td>/backup2/synthtiger/english/images/999/9999995...</td>\n",
       "      <td>Date:newsgroup</td>\n",
       "    </tr>\n",
       "    <tr>\n",
       "      <th>9999996</th>\n",
       "      <td>/backup2/synthtiger/english/images/999/9999996...</td>\n",
       "      <td>nobrega</td>\n",
       "    </tr>\n",
       "    <tr>\n",
       "      <th>9999997</th>\n",
       "      <td>/backup2/synthtiger/english/images/999/9999997...</td>\n",
       "      <td>on</td>\n",
       "    </tr>\n",
       "    <tr>\n",
       "      <th>9999998</th>\n",
       "      <td>/backup2/synthtiger/english/images/999/9999998...</td>\n",
       "      <td>Following</td>\n",
       "    </tr>\n",
       "    <tr>\n",
       "      <th>9999999</th>\n",
       "      <td>/backup2/synthtiger/english/images/999/9999999...</td>\n",
       "      <td>Biochemist</td>\n",
       "    </tr>\n",
       "  </tbody>\n",
       "</table>\n",
       "<p>10000000 rows × 2 columns</p>\n",
       "</div>"
      ],
      "text/plain": [
       "                                                  filepath            word\n",
       "0               /backup2/synthtiger/english/images/0/0.jpg    CIRCUMCENTER\n",
       "1               /backup2/synthtiger/english/images/0/1.jpg       Slackened\n",
       "2               /backup2/synthtiger/english/images/0/2.jpg         method.\n",
       "3               /backup2/synthtiger/english/images/0/3.jpg             tel\n",
       "4               /backup2/synthtiger/english/images/0/4.jpg          FLAVOR\n",
       "...                                                    ...             ...\n",
       "9999995  /backup2/synthtiger/english/images/999/9999995...  Date:newsgroup\n",
       "9999996  /backup2/synthtiger/english/images/999/9999996...         nobrega\n",
       "9999997  /backup2/synthtiger/english/images/999/9999997...              on\n",
       "9999998  /backup2/synthtiger/english/images/999/9999998...       Following\n",
       "9999999  /backup2/synthtiger/english/images/999/9999999...      Biochemist\n",
       "\n",
       "[10000000 rows x 2 columns]"
      ]
     },
     "execution_count": 3,
     "metadata": {},
     "output_type": "execute_result"
    }
   ],
   "source": [
    "df=pd.DataFrame({\"filepath\":image_paths,\"word\":labels})\n",
    "df"
   ]
  },
  {
   "cell_type": "code",
   "execution_count": 4,
   "metadata": {},
   "outputs": [
    {
     "data": {
      "application/vnd.jupyter.widget-view+json": {
       "model_id": "b7b4cd757309468f8b1db773860c58f4",
       "version_major": 2,
       "version_minor": 0
      },
      "text/plain": [
       "  0%|          | 0/10000000 [00:00<?, ?it/s]"
      ]
     },
     "metadata": {},
     "output_type": "display_data"
    },
    {
     "data": {
      "text/html": [
       "<div>\n",
       "<style scoped>\n",
       "    .dataframe tbody tr th:only-of-type {\n",
       "        vertical-align: middle;\n",
       "    }\n",
       "\n",
       "    .dataframe tbody tr th {\n",
       "        vertical-align: top;\n",
       "    }\n",
       "\n",
       "    .dataframe thead th {\n",
       "        text-align: right;\n",
       "    }\n",
       "</style>\n",
       "<table border=\"1\" class=\"dataframe\">\n",
       "  <thead>\n",
       "    <tr style=\"text-align: right;\">\n",
       "      <th></th>\n",
       "      <th>filepath</th>\n",
       "      <th>word</th>\n",
       "      <th>src</th>\n",
       "    </tr>\n",
       "  </thead>\n",
       "  <tbody>\n",
       "    <tr>\n",
       "      <th>0</th>\n",
       "      <td>/backup2/synthtiger/english/images/0/0.jpg</td>\n",
       "      <td>CIRCUMCENTER</td>\n",
       "      <td>/backup2/synthtiger/english/</td>\n",
       "    </tr>\n",
       "    <tr>\n",
       "      <th>1</th>\n",
       "      <td>/backup2/synthtiger/english/images/0/1.jpg</td>\n",
       "      <td>Slackened</td>\n",
       "      <td>/backup2/synthtiger/english/</td>\n",
       "    </tr>\n",
       "    <tr>\n",
       "      <th>2</th>\n",
       "      <td>/backup2/synthtiger/english/images/0/2.jpg</td>\n",
       "      <td>method.</td>\n",
       "      <td>/backup2/synthtiger/english/</td>\n",
       "    </tr>\n",
       "    <tr>\n",
       "      <th>3</th>\n",
       "      <td>/backup2/synthtiger/english/images/0/3.jpg</td>\n",
       "      <td>tel</td>\n",
       "      <td>/backup2/synthtiger/english/</td>\n",
       "    </tr>\n",
       "    <tr>\n",
       "      <th>4</th>\n",
       "      <td>/backup2/synthtiger/english/images/0/4.jpg</td>\n",
       "      <td>FLAVOR</td>\n",
       "      <td>/backup2/synthtiger/english/</td>\n",
       "    </tr>\n",
       "    <tr>\n",
       "      <th>...</th>\n",
       "      <td>...</td>\n",
       "      <td>...</td>\n",
       "      <td>...</td>\n",
       "    </tr>\n",
       "    <tr>\n",
       "      <th>9999995</th>\n",
       "      <td>/backup2/synthtiger/english/images/999/9999995...</td>\n",
       "      <td>Date:newsgroup</td>\n",
       "      <td>/backup2/synthtiger/english/</td>\n",
       "    </tr>\n",
       "    <tr>\n",
       "      <th>9999996</th>\n",
       "      <td>/backup2/synthtiger/english/images/999/9999996...</td>\n",
       "      <td>nobrega</td>\n",
       "      <td>/backup2/synthtiger/english/</td>\n",
       "    </tr>\n",
       "    <tr>\n",
       "      <th>9999997</th>\n",
       "      <td>/backup2/synthtiger/english/images/999/9999997...</td>\n",
       "      <td>on</td>\n",
       "      <td>/backup2/synthtiger/english/</td>\n",
       "    </tr>\n",
       "    <tr>\n",
       "      <th>9999998</th>\n",
       "      <td>/backup2/synthtiger/english/images/999/9999998...</td>\n",
       "      <td>Following</td>\n",
       "      <td>/backup2/synthtiger/english/</td>\n",
       "    </tr>\n",
       "    <tr>\n",
       "      <th>9999999</th>\n",
       "      <td>/backup2/synthtiger/english/images/999/9999999...</td>\n",
       "      <td>Biochemist</td>\n",
       "      <td>/backup2/synthtiger/english/</td>\n",
       "    </tr>\n",
       "  </tbody>\n",
       "</table>\n",
       "<p>10000000 rows × 3 columns</p>\n",
       "</div>"
      ],
      "text/plain": [
       "                                                  filepath            word  \\\n",
       "0               /backup2/synthtiger/english/images/0/0.jpg    CIRCUMCENTER   \n",
       "1               /backup2/synthtiger/english/images/0/1.jpg       Slackened   \n",
       "2               /backup2/synthtiger/english/images/0/2.jpg         method.   \n",
       "3               /backup2/synthtiger/english/images/0/3.jpg             tel   \n",
       "4               /backup2/synthtiger/english/images/0/4.jpg          FLAVOR   \n",
       "...                                                    ...             ...   \n",
       "9999995  /backup2/synthtiger/english/images/999/9999995...  Date:newsgroup   \n",
       "9999996  /backup2/synthtiger/english/images/999/9999996...         nobrega   \n",
       "9999997  /backup2/synthtiger/english/images/999/9999997...              on   \n",
       "9999998  /backup2/synthtiger/english/images/999/9999998...       Following   \n",
       "9999999  /backup2/synthtiger/english/images/999/9999999...      Biochemist   \n",
       "\n",
       "                                  src  \n",
       "0        /backup2/synthtiger/english/  \n",
       "1        /backup2/synthtiger/english/  \n",
       "2        /backup2/synthtiger/english/  \n",
       "3        /backup2/synthtiger/english/  \n",
       "4        /backup2/synthtiger/english/  \n",
       "...                               ...  \n",
       "9999995  /backup2/synthtiger/english/  \n",
       "9999996  /backup2/synthtiger/english/  \n",
       "9999997  /backup2/synthtiger/english/  \n",
       "9999998  /backup2/synthtiger/english/  \n",
       "9999999  /backup2/synthtiger/english/  \n",
       "\n",
       "[10000000 rows x 3 columns]"
      ]
     },
     "execution_count": 4,
     "metadata": {},
     "output_type": "execute_result"
    }
   ],
   "source": [
    "tqdm.pandas()\n",
    "df[\"src\"]=df[\"filepath\"].progress_apply(lambda x:x.split(\"images\")[0])\n",
    "df"
   ]
  },
  {
   "cell_type": "code",
   "execution_count": 5,
   "metadata": {},
   "outputs": [
    {
     "data": {
      "text/plain": [
       "array(['/backup2/synthtiger/english/'], dtype=object)"
      ]
     },
     "execution_count": 5,
     "metadata": {},
     "output_type": "execute_result"
    }
   ],
   "source": [
    "srcs=df.src.unique()\n",
    "srcs"
   ]
  },
  {
   "cell_type": "code",
   "execution_count": 6,
   "metadata": {},
   "outputs": [
    {
     "data": {
      "application/vnd.jupyter.widget-view+json": {
       "model_id": "a9d3b4288be94c8e9006e5634d007cfb",
       "version_major": 2,
       "version_minor": 0
      },
      "text/plain": [
       "  0%|          | 0/1 [00:00<?, ?it/s]"
      ]
     },
     "metadata": {},
     "output_type": "display_data"
    },
    {
     "name": "stdout",
     "output_type": "stream",
     "text": [
      "writing data to: /backup2/synthtiger/english/data.txt\n"
     ]
    },
    {
     "data": {
      "application/vnd.jupyter.widget-view+json": {
       "model_id": "82ddb07331b84fa2b2dcd87c4ed5383f",
       "version_major": 2,
       "version_minor": 0
      },
      "text/plain": [
       "  0%|          | 0/10000000 [00:00<?, ?it/s]"
      ]
     },
     "metadata": {},
     "output_type": "display_data"
    }
   ],
   "source": [
    "for src in tqdm(srcs):\n",
    "    sdf=df.loc[df.src==src]\n",
    "    print(\"writing data to:\",os.path.join(src,\"data.txt\"))\n",
    "    with open(os.path.join(src,\"data.txt\"),\"w+\") as f:\n",
    "        for idx in tqdm(range(len(sdf))):\n",
    "            fpath=sdf.iloc[idx,0]\n",
    "            word=sdf.iloc[idx,1]\n",
    "            f.write(f\"{fpath}\\t{word}\\n\")\n",
    "\n"
   ]
  },
  {
   "cell_type": "code",
   "execution_count": null,
   "metadata": {},
   "outputs": [],
   "source": []
  }
 ],
 "metadata": {
  "kernelspec": {
   "display_name": "Python 3.8.5 ('bangla')",
   "language": "python",
   "name": "python3"
  },
  "language_info": {
   "codemirror_mode": {
    "name": "ipython",
    "version": 3
   },
   "file_extension": ".py",
   "mimetype": "text/x-python",
   "name": "python",
   "nbconvert_exporter": "python",
   "pygments_lexer": "ipython3",
   "version": "3.8.5"
  },
  "orig_nbformat": 4,
  "vscode": {
   "interpreter": {
    "hash": "83cb0fe33a0a67f9f877ffb776c4b7cce63e124f7ba47fe6878fb868bcc96314"
   }
  }
 },
 "nbformat": 4,
 "nbformat_minor": 2
}
