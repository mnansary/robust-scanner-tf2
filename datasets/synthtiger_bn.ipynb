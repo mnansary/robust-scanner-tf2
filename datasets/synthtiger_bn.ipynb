{
 "cells": [
  {
   "cell_type": "markdown",
   "metadata": {},
   "source": [
    "# Collect all the image paths and label text from gt.txt"
   ]
  },
  {
   "cell_type": "code",
   "execution_count": 1,
   "metadata": {},
   "outputs": [
    {
     "data": {
      "application/vnd.jupyter.widget-view+json": {
       "model_id": "39a428fefcfe4f2aadb1a1d8d0e0a9c6",
       "version_major": 2,
       "version_minor": 0
      },
      "text/plain": [
       "  0%|          | 0/6 [00:00<?, ?it/s]"
      ]
     },
     "metadata": {},
     "output_type": "display_data"
    },
    {
     "name": "stdout",
     "output_type": "stream",
     "text": [
      "/backup2/synthtiger/bangla/vertical/gt.txt has : 938096  data\n"
     ]
    },
    {
     "data": {
      "application/vnd.jupyter.widget-view+json": {
       "model_id": "fdcf411d7aa4479fb269fcab5bad1b14",
       "version_major": 2,
       "version_minor": 0
      },
      "text/plain": [
       "  0%|          | 0/938096 [00:00<?, ?it/s]"
      ]
     },
     "metadata": {},
     "output_type": "display_data"
    },
    {
     "name": "stdout",
     "output_type": "stream",
     "text": [
      "/backup2/synthtiger/bangla/vertical_valid/gt.txt has : 93814  data\n"
     ]
    },
    {
     "data": {
      "application/vnd.jupyter.widget-view+json": {
       "model_id": "b30756ad132c431f9e9bf78743693b5f",
       "version_major": 2,
       "version_minor": 0
      },
      "text/plain": [
       "  0%|          | 0/93814 [00:00<?, ?it/s]"
      ]
     },
     "metadata": {},
     "output_type": "display_data"
    },
    {
     "name": "stdout",
     "output_type": "stream",
     "text": [
      "/backup2/synthtiger/bangla/PaddleOCR/horizontal_valid/gt.txt has : 947491  data\n"
     ]
    },
    {
     "data": {
      "application/vnd.jupyter.widget-view+json": {
       "model_id": "cadfa92d64ca4e11b41e0a899008f106",
       "version_major": 2,
       "version_minor": 0
      },
      "text/plain": [
       "  0%|          | 0/947491 [00:00<?, ?it/s]"
      ]
     },
     "metadata": {},
     "output_type": "display_data"
    },
    {
     "name": "stdout",
     "output_type": "stream",
     "text": [
      "/backup2/synthtiger/spatial/gt.txt has : 4728924  data\n"
     ]
    },
    {
     "data": {
      "application/vnd.jupyter.widget-view+json": {
       "model_id": "b1520a2e5fea40229440a55faf8bd1cd",
       "version_major": 2,
       "version_minor": 0
      },
      "text/plain": [
       "  0%|          | 0/4728924 [00:00<?, ?it/s]"
      ]
     },
     "metadata": {},
     "output_type": "display_data"
    },
    {
     "name": "stdout",
     "output_type": "stream",
     "text": [
      "/backup2/synthtiger/bangla/horizontal_part2/gt.txt has : 4737084  data\n"
     ]
    },
    {
     "data": {
      "application/vnd.jupyter.widget-view+json": {
       "model_id": "4e5296edc0f341a7b4afa3aecc6315fa",
       "version_major": 2,
       "version_minor": 0
      },
      "text/plain": [
       "  0%|          | 0/4737084 [00:00<?, ?it/s]"
      ]
     },
     "metadata": {},
     "output_type": "display_data"
    },
    {
     "name": "stdout",
     "output_type": "stream",
     "text": [
      "/backup2/synthtiger/bangla/horizontal_part2/bn_ocr_horizontal/gt.txt has : 4737084  data\n"
     ]
    },
    {
     "data": {
      "application/vnd.jupyter.widget-view+json": {
       "model_id": "6af836e19d464e4681b5471af61b3fc0",
       "version_major": 2,
       "version_minor": 0
      },
      "text/plain": [
       "  0%|          | 0/4737084 [00:00<?, ?it/s]"
      ]
     },
     "metadata": {},
     "output_type": "display_data"
    }
   ],
   "source": [
    "import os \n",
    "import pandas as pd \n",
    "from glob import glob \n",
    "from tqdm.auto import tqdm\n",
    "\n",
    "dirs=[  '/backup2/synthtiger/bangla/vertical/',\n",
    "        '/backup2/synthtiger/bangla/vertical_valid/',\n",
    "        '/backup2/synthtiger/bangla/PaddleOCR/horizontal_valid/',\n",
    "        '/backup2/synthtiger/spatial/',\n",
    "        '/backup2/synthtiger/bangla/horizontal_part2/',\n",
    "        '/backup2/synthtiger/bangla/horizontal_part2/bn_ocr_horizontal/',]\n",
    "\n",
    "image_paths=[]\n",
    "labels=[]\n",
    "for _dir in tqdm(dirs):\n",
    "    _txt=os.path.join(_dir,\"gt.txt\")\n",
    "    with open(_txt,\"r\") as f:\n",
    "        lines=f.readlines()\n",
    "    print(_txt, \"has :\",len(lines),\" data\")\n",
    "    for line in tqdm(lines):\n",
    "        if line.strip():\n",
    "            if len(line.split(\"\\t\"))==2:\n",
    "                line=line.replace(\"\\n\",\"\")\n",
    "                _path,_label=line.split(\"\\t\")\n",
    "                _path=_dir+_path\n",
    "                image_paths.append(_path)\n",
    "                labels.append(_label)\n",
    "            \n"
   ]
  },
  {
   "cell_type": "markdown",
   "metadata": {},
   "source": [
    "# List problematic charecters"
   ]
  },
  {
   "cell_type": "code",
   "execution_count": 2,
   "metadata": {},
   "outputs": [
    {
     "data": {
      "application/vnd.jupyter.widget-view+json": {
       "model_id": "af80117212bb4f3c967b2efa1dfa2d21",
       "version_major": 2,
       "version_minor": 0
      },
      "text/plain": [
       "  0%|          | 0/16182493 [00:00<?, ?it/s]"
      ]
     },
     "metadata": {},
     "output_type": "display_data"
    },
    {
     "data": {
      "text/plain": [
       "['ম',\n",
       " 'ৌ',\n",
       " 'র',\n",
       " 'ি',\n",
       " 'দ',\n",
       " 'ে',\n",
       " 'ক',\n",
       " '্',\n",
       " 'ী',\n",
       " 'শ',\n",
       " 'চ',\n",
       " 'া',\n",
       " 'ন',\n",
       " 'স',\n",
       " 'হ',\n",
       " 'ভ',\n",
       " 'ড়',\n",
       " 'ঠ',\n",
       " 'গ',\n",
       " 'ত',\n",
       " 'য',\n",
       " 'অ',\n",
       " 'ঙ',\n",
       " 'ো',\n",
       " 'ই',\n",
       " 'ব',\n",
       " 'জ',\n",
       " 'য়',\n",
       " 'ষ',\n",
       " 'উ',\n",
       " 'প',\n",
       " 'খ',\n",
       " 'ছ',\n",
       " 'ু',\n",
       " 'থ',\n",
       " 'ট',\n",
       " 'ল',\n",
       " '১',\n",
       " 'ড',\n",
       " 'ও',\n",
       " '৭',\n",
       " 'আ',\n",
       " 'ঞ',\n",
       " 'ৃ',\n",
       " 'ং',\n",
       " 'ফ',\n",
       " 'ণ',\n",
       " 'ৎ',\n",
       " '০',\n",
       " '৯',\n",
       " 'ঝ',\n",
       " 'ঁ',\n",
       " 'ূ',\n",
       " 'ৈ',\n",
       " 'এ',\n",
       " 'ধ',\n",
       " 'ঘ',\n",
       " 'ঃ',\n",
       " '৪',\n",
       " 'ঋ',\n",
       " '৬',\n",
       " 'ঢ',\n",
       " '৫',\n",
       " '৮',\n",
       " '়',\n",
       " '৩',\n",
       " '!',\n",
       " 'ঐ',\n",
       " 'ঢ়',\n",
       " 'ঈ',\n",
       " '২',\n",
       " '-',\n",
       " 'ঊ',\n",
       " 'ঔ',\n",
       " 'S',\n",
       " 'e',\n",
       " 'l',\n",
       " 'f',\n",
       " 'c',\n",
       " 'o',\n",
       " 'n',\n",
       " 't',\n",
       " 'r',\n",
       " 'y',\n",
       " 'u',\n",
       " '?',\n",
       " ':',\n",
       " '1',\n",
       " '9',\n",
       " '7',\n",
       " 's',\n",
       " 'h',\n",
       " 'd',\n",
       " '।',\n",
       " 'T',\n",
       " 'i',\n",
       " 'g',\n",
       " 'P',\n",
       " 'p',\n",
       " '—',\n",
       " '+',\n",
       " 'w',\n",
       " 'H',\n",
       " 'R',\n",
       " 'ৗ',\n",
       " 'W',\n",
       " 'Y',\n",
       " 'V',\n",
       " '=',\n",
       " '×',\n",
       " 'E',\n",
       " 'L',\n",
       " 'F',\n",
       " 'C',\n",
       " 'O',\n",
       " 'N',\n",
       " ')',\n",
       " 'm',\n",
       " 'v',\n",
       " 'U',\n",
       " 'I',\n",
       " 'k',\n",
       " '3',\n",
       " '2',\n",
       " '8',\n",
       " '6',\n",
       " 'G',\n",
       " 'M',\n",
       " \"'\",\n",
       " 'K',\n",
       " 'D']"
      ]
     },
     "execution_count": 2,
     "metadata": {},
     "output_type": "execute_result"
    }
   ],
   "source": [
    "chars=[]\n",
    "for label in tqdm(labels):\n",
    "    for c in label:\n",
    "        if c not in chars:\n",
    "            chars.append(c)\n",
    "chars\n"
   ]
  },
  {
   "cell_type": "markdown",
   "metadata": {},
   "source": [
    "# Normalize unicodes and allow bangla text \n",
    "* make sure the normalizer is latest"
   ]
  },
  {
   "cell_type": "code",
   "execution_count": 6,
   "metadata": {},
   "outputs": [
    {
     "name": "stdout",
     "output_type": "stream",
     "text": [
      "/bin/bash: /home/apsisdev/anaconda3/envs/eblict/lib/libtinfo.so.6: no version information available (required by /bin/bash)\n",
      "Requirement already satisfied: bnunicodenormalizer in /home/apsisdev/anaconda3/envs/bangla/lib/python3.8/site-packages (0.0.19)\n",
      "/bin/bash: /home/apsisdev/anaconda3/envs/eblict/lib/libtinfo.so.6: no version information available (required by /bin/bash)\n",
      "Collecting pandarallel\n",
      "  Using cached pandarallel-1.6.1-py3-none-any.whl\n",
      "Requirement already satisfied: dill>=0.3.1 in /home/apsisdev/anaconda3/envs/bangla/lib/python3.8/site-packages (from pandarallel) (0.3.4)\n",
      "Requirement already satisfied: psutil in /home/apsisdev/anaconda3/envs/bangla/lib/python3.8/site-packages (from pandarallel) (5.9.1)\n",
      "Requirement already satisfied: pandas>=1 in /home/apsisdev/anaconda3/envs/bangla/lib/python3.8/site-packages (from pandarallel) (1.2.4)\n",
      "Requirement already satisfied: numpy>=1.16.5 in /home/apsisdev/anaconda3/envs/bangla/lib/python3.8/site-packages (from pandas>=1->pandarallel) (1.22.4)\n",
      "Requirement already satisfied: pytz>=2017.3 in /home/apsisdev/anaconda3/envs/bangla/lib/python3.8/site-packages (from pandas>=1->pandarallel) (2021.1)\n",
      "Requirement already satisfied: python-dateutil>=2.7.3 in /home/apsisdev/.local/lib/python3.8/site-packages (from pandas>=1->pandarallel) (2.8.2)\n",
      "Requirement already satisfied: six>=1.5 in /home/apsisdev/anaconda3/envs/bangla/lib/python3.8/site-packages (from python-dateutil>=2.7.3->pandas>=1->pandarallel) (1.16.0)\n",
      "Installing collected packages: pandarallel\n",
      "Successfully installed pandarallel-1.6.1\n"
     ]
    }
   ],
   "source": [
    "!pip install -U bnunicodenormalizer\n",
    "!pip install pandarallel"
   ]
  },
  {
   "cell_type": "code",
   "execution_count": 8,
   "metadata": {},
   "outputs": [
    {
     "name": "stdout",
     "output_type": "stream",
     "text": [
      "INFO: Pandarallel will run on 32 workers.\n",
      "INFO: Pandarallel will use Memory file system to transfer data between the main process and workers.\n"
     ]
    }
   ],
   "source": [
    "from bnunicodenormalizer import Normalizer\n",
    "from pandarallel import pandarallel\n",
    "pandarallel.initialize(progress_bar=True,nb_workers=32)\n",
    "norm=Normalizer()"
   ]
  },
  {
   "cell_type": "code",
   "execution_count": 5,
   "metadata": {},
   "outputs": [
    {
     "data": {
      "text/html": [
       "<div>\n",
       "<style scoped>\n",
       "    .dataframe tbody tr th:only-of-type {\n",
       "        vertical-align: middle;\n",
       "    }\n",
       "\n",
       "    .dataframe tbody tr th {\n",
       "        vertical-align: top;\n",
       "    }\n",
       "\n",
       "    .dataframe thead th {\n",
       "        text-align: right;\n",
       "    }\n",
       "</style>\n",
       "<table border=\"1\" class=\"dataframe\">\n",
       "  <thead>\n",
       "    <tr style=\"text-align: right;\">\n",
       "      <th></th>\n",
       "      <th>filepath</th>\n",
       "      <th>word</th>\n",
       "    </tr>\n",
       "  </thead>\n",
       "  <tbody>\n",
       "    <tr>\n",
       "      <th>0</th>\n",
       "      <td>/backup2/synthtiger/bangla/vertical/images/102...</td>\n",
       "      <td>মৌরিদের</td>\n",
       "    </tr>\n",
       "    <tr>\n",
       "      <th>1</th>\n",
       "      <td>/backup2/synthtiger/bangla/vertical/images/102...</td>\n",
       "      <td>ক্রীশ্চানসহ</td>\n",
       "    </tr>\n",
       "    <tr>\n",
       "      <th>2</th>\n",
       "      <td>/backup2/synthtiger/bangla/vertical/images/102...</td>\n",
       "      <td>ভাড়াঠিরা</td>\n",
       "    </tr>\n",
       "    <tr>\n",
       "      <th>3</th>\n",
       "      <td>/backup2/synthtiger/bangla/vertical/images/102...</td>\n",
       "      <td>দশগ্রাম</td>\n",
       "    </tr>\n",
       "    <tr>\n",
       "      <th>4</th>\n",
       "      <td>/backup2/synthtiger/bangla/vertical/images/102...</td>\n",
       "      <td>সত্যকাহন</td>\n",
       "    </tr>\n",
       "    <tr>\n",
       "      <th>...</th>\n",
       "      <td>...</td>\n",
       "      <td>...</td>\n",
       "    </tr>\n",
       "    <tr>\n",
       "      <th>16182488</th>\n",
       "      <td>/backup2/synthtiger/bangla/horizontal_part2/bn...</td>\n",
       "      <td>জেটসটাইল্টস</td>\n",
       "    </tr>\n",
       "    <tr>\n",
       "      <th>16182489</th>\n",
       "      <td>/backup2/synthtiger/bangla/horizontal_part2/bn...</td>\n",
       "      <td>হোমিওপ্যথি</td>\n",
       "    </tr>\n",
       "    <tr>\n",
       "      <th>16182490</th>\n",
       "      <td>/backup2/synthtiger/bangla/horizontal_part2/bn...</td>\n",
       "      <td>ইউএননিউজ</td>\n",
       "    </tr>\n",
       "    <tr>\n",
       "      <th>16182491</th>\n",
       "      <td>/backup2/synthtiger/bangla/horizontal_part2/bn...</td>\n",
       "      <td>সুবর্ণচম্পকের</td>\n",
       "    </tr>\n",
       "    <tr>\n",
       "      <th>16182492</th>\n",
       "      <td>/backup2/synthtiger/bangla/horizontal_part2/bn...</td>\n",
       "      <td>হাড়ুডাঙ্গা</td>\n",
       "    </tr>\n",
       "  </tbody>\n",
       "</table>\n",
       "<p>16182493 rows × 2 columns</p>\n",
       "</div>"
      ],
      "text/plain": [
       "                                                   filepath           word\n",
       "0         /backup2/synthtiger/bangla/vertical/images/102...        মৌরিদের\n",
       "1         /backup2/synthtiger/bangla/vertical/images/102...    ক্রীশ্চানসহ\n",
       "2         /backup2/synthtiger/bangla/vertical/images/102...       ভাড়াঠিরা\n",
       "3         /backup2/synthtiger/bangla/vertical/images/102...        দশগ্রাম\n",
       "4         /backup2/synthtiger/bangla/vertical/images/102...       সত্যকাহন\n",
       "...                                                     ...            ...\n",
       "16182488  /backup2/synthtiger/bangla/horizontal_part2/bn...    জেটসটাইল্টস\n",
       "16182489  /backup2/synthtiger/bangla/horizontal_part2/bn...     হোমিওপ্যথি\n",
       "16182490  /backup2/synthtiger/bangla/horizontal_part2/bn...       ইউএননিউজ\n",
       "16182491  /backup2/synthtiger/bangla/horizontal_part2/bn...  সুবর্ণচম্পকের\n",
       "16182492  /backup2/synthtiger/bangla/horizontal_part2/bn...     হাড়ুডাঙ্গা\n",
       "\n",
       "[16182493 rows x 2 columns]"
      ]
     },
     "execution_count": 5,
     "metadata": {},
     "output_type": "execute_result"
    }
   ],
   "source": [
    "df=pd.DataFrame({\"filepath\":image_paths,\"word\":labels})\n",
    "df"
   ]
  },
  {
   "cell_type": "code",
   "execution_count": 9,
   "metadata": {},
   "outputs": [
    {
     "data": {
      "application/vnd.jupyter.widget-view+json": {
       "model_id": "8813fb3a96de452385fa24535ae83d85",
       "version_major": 2,
       "version_minor": 0
      },
      "text/plain": [
       "VBox(children=(HBox(children=(IntProgress(value=0, description='0.00%', max=505703), Label(value='0 / 505703')…"
      ]
     },
     "metadata": {},
     "output_type": "display_data"
    },
    {
     "data": {
      "text/html": [
       "<div>\n",
       "<style scoped>\n",
       "    .dataframe tbody tr th:only-of-type {\n",
       "        vertical-align: middle;\n",
       "    }\n",
       "\n",
       "    .dataframe tbody tr th {\n",
       "        vertical-align: top;\n",
       "    }\n",
       "\n",
       "    .dataframe thead th {\n",
       "        text-align: right;\n",
       "    }\n",
       "</style>\n",
       "<table border=\"1\" class=\"dataframe\">\n",
       "  <thead>\n",
       "    <tr style=\"text-align: right;\">\n",
       "      <th></th>\n",
       "      <th>filepath</th>\n",
       "      <th>word</th>\n",
       "    </tr>\n",
       "  </thead>\n",
       "  <tbody>\n",
       "    <tr>\n",
       "      <th>0</th>\n",
       "      <td>/backup2/synthtiger/bangla/vertical/images/102...</td>\n",
       "      <td>মৌরিদের</td>\n",
       "    </tr>\n",
       "    <tr>\n",
       "      <th>1</th>\n",
       "      <td>/backup2/synthtiger/bangla/vertical/images/102...</td>\n",
       "      <td>ক্রীশ্চানসহ</td>\n",
       "    </tr>\n",
       "    <tr>\n",
       "      <th>2</th>\n",
       "      <td>/backup2/synthtiger/bangla/vertical/images/102...</td>\n",
       "      <td>ভাড়াঠিরা</td>\n",
       "    </tr>\n",
       "    <tr>\n",
       "      <th>3</th>\n",
       "      <td>/backup2/synthtiger/bangla/vertical/images/102...</td>\n",
       "      <td>দশগ্রাম</td>\n",
       "    </tr>\n",
       "    <tr>\n",
       "      <th>4</th>\n",
       "      <td>/backup2/synthtiger/bangla/vertical/images/102...</td>\n",
       "      <td>সত্যকাহন</td>\n",
       "    </tr>\n",
       "    <tr>\n",
       "      <th>...</th>\n",
       "      <td>...</td>\n",
       "      <td>...</td>\n",
       "    </tr>\n",
       "    <tr>\n",
       "      <th>16182488</th>\n",
       "      <td>/backup2/synthtiger/bangla/horizontal_part2/bn...</td>\n",
       "      <td>জেটসটাইল্টস</td>\n",
       "    </tr>\n",
       "    <tr>\n",
       "      <th>16182489</th>\n",
       "      <td>/backup2/synthtiger/bangla/horizontal_part2/bn...</td>\n",
       "      <td>হোমিওপ্যথি</td>\n",
       "    </tr>\n",
       "    <tr>\n",
       "      <th>16182490</th>\n",
       "      <td>/backup2/synthtiger/bangla/horizontal_part2/bn...</td>\n",
       "      <td>ইউএননিউজ</td>\n",
       "    </tr>\n",
       "    <tr>\n",
       "      <th>16182491</th>\n",
       "      <td>/backup2/synthtiger/bangla/horizontal_part2/bn...</td>\n",
       "      <td>সুবর্ণচম্পকের</td>\n",
       "    </tr>\n",
       "    <tr>\n",
       "      <th>16182492</th>\n",
       "      <td>/backup2/synthtiger/bangla/horizontal_part2/bn...</td>\n",
       "      <td>হাড়ুডাঙ্গা</td>\n",
       "    </tr>\n",
       "  </tbody>\n",
       "</table>\n",
       "<p>16182493 rows × 2 columns</p>\n",
       "</div>"
      ],
      "text/plain": [
       "                                                   filepath           word\n",
       "0         /backup2/synthtiger/bangla/vertical/images/102...        মৌরিদের\n",
       "1         /backup2/synthtiger/bangla/vertical/images/102...    ক্রীশ্চানসহ\n",
       "2         /backup2/synthtiger/bangla/vertical/images/102...       ভাড়াঠিরা\n",
       "3         /backup2/synthtiger/bangla/vertical/images/102...        দশগ্রাম\n",
       "4         /backup2/synthtiger/bangla/vertical/images/102...       সত্যকাহন\n",
       "...                                                     ...            ...\n",
       "16182488  /backup2/synthtiger/bangla/horizontal_part2/bn...    জেটসটাইল্টস\n",
       "16182489  /backup2/synthtiger/bangla/horizontal_part2/bn...     হোমিওপ্যথি\n",
       "16182490  /backup2/synthtiger/bangla/horizontal_part2/bn...       ইউএননিউজ\n",
       "16182491  /backup2/synthtiger/bangla/horizontal_part2/bn...  সুবর্ণচম্পকের\n",
       "16182492  /backup2/synthtiger/bangla/horizontal_part2/bn...     হাড়ুডাঙ্গা\n",
       "\n",
       "[16182493 rows x 2 columns]"
      ]
     },
     "execution_count": 9,
     "metadata": {},
     "output_type": "execute_result"
    }
   ],
   "source": [
    "df[\"word\"]=df[\"word\"].parallel_apply(lambda x:norm(x)[\"normalized\"])\n",
    "df"
   ]
  },
  {
   "cell_type": "code",
   "execution_count": 10,
   "metadata": {},
   "outputs": [
    {
     "name": "stdout",
     "output_type": "stream",
     "text": [
      "New fixed labels total: 16181090\n"
     ]
    }
   ],
   "source": [
    "df.dropna(inplace=True)\n",
    "df.reset_index(drop=True,inplace=True)\n",
    "print(\"New fixed labels total:\",len(df))"
   ]
  },
  {
   "cell_type": "markdown",
   "metadata": {},
   "source": [
    "# Save as data.txt in corresponding dirs"
   ]
  },
  {
   "cell_type": "code",
   "execution_count": 11,
   "metadata": {},
   "outputs": [
    {
     "data": {
      "application/vnd.jupyter.widget-view+json": {
       "model_id": "371c9f174f4848289f8c8357e8d4eb08",
       "version_major": 2,
       "version_minor": 0
      },
      "text/plain": [
       "  0%|          | 0/16181090 [00:00<?, ?it/s]"
      ]
     },
     "metadata": {},
     "output_type": "display_data"
    },
    {
     "data": {
      "text/html": [
       "<div>\n",
       "<style scoped>\n",
       "    .dataframe tbody tr th:only-of-type {\n",
       "        vertical-align: middle;\n",
       "    }\n",
       "\n",
       "    .dataframe tbody tr th {\n",
       "        vertical-align: top;\n",
       "    }\n",
       "\n",
       "    .dataframe thead th {\n",
       "        text-align: right;\n",
       "    }\n",
       "</style>\n",
       "<table border=\"1\" class=\"dataframe\">\n",
       "  <thead>\n",
       "    <tr style=\"text-align: right;\">\n",
       "      <th></th>\n",
       "      <th>filepath</th>\n",
       "      <th>word</th>\n",
       "      <th>src</th>\n",
       "    </tr>\n",
       "  </thead>\n",
       "  <tbody>\n",
       "    <tr>\n",
       "      <th>0</th>\n",
       "      <td>/backup2/synthtiger/bangla/vertical/images/102...</td>\n",
       "      <td>মৌরিদের</td>\n",
       "      <td>/backup2/synthtiger/bangla/vertical/</td>\n",
       "    </tr>\n",
       "    <tr>\n",
       "      <th>1</th>\n",
       "      <td>/backup2/synthtiger/bangla/vertical/images/102...</td>\n",
       "      <td>ক্রীশ্চানসহ</td>\n",
       "      <td>/backup2/synthtiger/bangla/vertical/</td>\n",
       "    </tr>\n",
       "    <tr>\n",
       "      <th>2</th>\n",
       "      <td>/backup2/synthtiger/bangla/vertical/images/102...</td>\n",
       "      <td>ভাড়াঠিরা</td>\n",
       "      <td>/backup2/synthtiger/bangla/vertical/</td>\n",
       "    </tr>\n",
       "    <tr>\n",
       "      <th>3</th>\n",
       "      <td>/backup2/synthtiger/bangla/vertical/images/102...</td>\n",
       "      <td>দশগ্রাম</td>\n",
       "      <td>/backup2/synthtiger/bangla/vertical/</td>\n",
       "    </tr>\n",
       "    <tr>\n",
       "      <th>4</th>\n",
       "      <td>/backup2/synthtiger/bangla/vertical/images/102...</td>\n",
       "      <td>সত্যকাহন</td>\n",
       "      <td>/backup2/synthtiger/bangla/vertical/</td>\n",
       "    </tr>\n",
       "    <tr>\n",
       "      <th>...</th>\n",
       "      <td>...</td>\n",
       "      <td>...</td>\n",
       "      <td>...</td>\n",
       "    </tr>\n",
       "    <tr>\n",
       "      <th>16181085</th>\n",
       "      <td>/backup2/synthtiger/bangla/horizontal_part2/bn...</td>\n",
       "      <td>জেটসটাইল্টস</td>\n",
       "      <td>/backup2/synthtiger/bangla/horizontal_part2/bn...</td>\n",
       "    </tr>\n",
       "    <tr>\n",
       "      <th>16181086</th>\n",
       "      <td>/backup2/synthtiger/bangla/horizontal_part2/bn...</td>\n",
       "      <td>হোমিওপ্যথি</td>\n",
       "      <td>/backup2/synthtiger/bangla/horizontal_part2/bn...</td>\n",
       "    </tr>\n",
       "    <tr>\n",
       "      <th>16181087</th>\n",
       "      <td>/backup2/synthtiger/bangla/horizontal_part2/bn...</td>\n",
       "      <td>ইউএননিউজ</td>\n",
       "      <td>/backup2/synthtiger/bangla/horizontal_part2/bn...</td>\n",
       "    </tr>\n",
       "    <tr>\n",
       "      <th>16181088</th>\n",
       "      <td>/backup2/synthtiger/bangla/horizontal_part2/bn...</td>\n",
       "      <td>সুবর্ণচম্পকের</td>\n",
       "      <td>/backup2/synthtiger/bangla/horizontal_part2/bn...</td>\n",
       "    </tr>\n",
       "    <tr>\n",
       "      <th>16181089</th>\n",
       "      <td>/backup2/synthtiger/bangla/horizontal_part2/bn...</td>\n",
       "      <td>হাড়ুডাঙ্গা</td>\n",
       "      <td>/backup2/synthtiger/bangla/horizontal_part2/bn...</td>\n",
       "    </tr>\n",
       "  </tbody>\n",
       "</table>\n",
       "<p>16181090 rows × 3 columns</p>\n",
       "</div>"
      ],
      "text/plain": [
       "                                                   filepath           word  \\\n",
       "0         /backup2/synthtiger/bangla/vertical/images/102...        মৌরিদের   \n",
       "1         /backup2/synthtiger/bangla/vertical/images/102...    ক্রীশ্চানসহ   \n",
       "2         /backup2/synthtiger/bangla/vertical/images/102...       ভাড়াঠিরা   \n",
       "3         /backup2/synthtiger/bangla/vertical/images/102...        দশগ্রাম   \n",
       "4         /backup2/synthtiger/bangla/vertical/images/102...       সত্যকাহন   \n",
       "...                                                     ...            ...   \n",
       "16181085  /backup2/synthtiger/bangla/horizontal_part2/bn...    জেটসটাইল্টস   \n",
       "16181086  /backup2/synthtiger/bangla/horizontal_part2/bn...     হোমিওপ্যথি   \n",
       "16181087  /backup2/synthtiger/bangla/horizontal_part2/bn...       ইউএননিউজ   \n",
       "16181088  /backup2/synthtiger/bangla/horizontal_part2/bn...  সুবর্ণচম্পকের   \n",
       "16181089  /backup2/synthtiger/bangla/horizontal_part2/bn...     হাড়ুডাঙ্গা   \n",
       "\n",
       "                                                        src  \n",
       "0                      /backup2/synthtiger/bangla/vertical/  \n",
       "1                      /backup2/synthtiger/bangla/vertical/  \n",
       "2                      /backup2/synthtiger/bangla/vertical/  \n",
       "3                      /backup2/synthtiger/bangla/vertical/  \n",
       "4                      /backup2/synthtiger/bangla/vertical/  \n",
       "...                                                     ...  \n",
       "16181085  /backup2/synthtiger/bangla/horizontal_part2/bn...  \n",
       "16181086  /backup2/synthtiger/bangla/horizontal_part2/bn...  \n",
       "16181087  /backup2/synthtiger/bangla/horizontal_part2/bn...  \n",
       "16181088  /backup2/synthtiger/bangla/horizontal_part2/bn...  \n",
       "16181089  /backup2/synthtiger/bangla/horizontal_part2/bn...  \n",
       "\n",
       "[16181090 rows x 3 columns]"
      ]
     },
     "execution_count": 11,
     "metadata": {},
     "output_type": "execute_result"
    }
   ],
   "source": [
    "tqdm.pandas()\n",
    "df[\"src\"]=df[\"filepath\"].progress_apply(lambda x:x.split(\"images\")[0])\n",
    "df"
   ]
  },
  {
   "cell_type": "code",
   "execution_count": 12,
   "metadata": {},
   "outputs": [
    {
     "data": {
      "text/plain": [
       "array(['/backup2/synthtiger/bangla/vertical/',\n",
       "       '/backup2/synthtiger/bangla/vertical_valid/',\n",
       "       '/backup2/synthtiger/bangla/PaddleOCR/horizontal_valid/',\n",
       "       '/backup2/synthtiger/spatial/',\n",
       "       '/backup2/synthtiger/bangla/horizontal_part2/',\n",
       "       '/backup2/synthtiger/bangla/horizontal_part2/bn_ocr_horizontal/'],\n",
       "      dtype=object)"
      ]
     },
     "execution_count": 12,
     "metadata": {},
     "output_type": "execute_result"
    }
   ],
   "source": [
    "srcs=df.src.unique()\n",
    "srcs"
   ]
  },
  {
   "cell_type": "code",
   "execution_count": 14,
   "metadata": {},
   "outputs": [
    {
     "data": {
      "application/vnd.jupyter.widget-view+json": {
       "model_id": "34e455ad282f41b198314350a8dffd12",
       "version_major": 2,
       "version_minor": 0
      },
      "text/plain": [
       "  0%|          | 0/6 [00:00<?, ?it/s]"
      ]
     },
     "metadata": {},
     "output_type": "display_data"
    },
    {
     "name": "stdout",
     "output_type": "stream",
     "text": [
      "writing data to: /backup2/synthtiger/bangla/vertical/data.txt\n"
     ]
    },
    {
     "data": {
      "application/vnd.jupyter.widget-view+json": {
       "model_id": "81d14344340c4bc8912fa743c6438017",
       "version_major": 2,
       "version_minor": 0
      },
      "text/plain": [
       "  0%|          | 0/938005 [00:00<?, ?it/s]"
      ]
     },
     "metadata": {},
     "output_type": "display_data"
    },
    {
     "name": "stdout",
     "output_type": "stream",
     "text": [
      "writing data to: /backup2/synthtiger/bangla/vertical_valid/data.txt\n"
     ]
    },
    {
     "data": {
      "application/vnd.jupyter.widget-view+json": {
       "model_id": "b31bff0ad30c4149bc7ad4a815533ef2",
       "version_major": 2,
       "version_minor": 0
      },
      "text/plain": [
       "  0%|          | 0/93810 [00:00<?, ?it/s]"
      ]
     },
     "metadata": {},
     "output_type": "display_data"
    },
    {
     "name": "stdout",
     "output_type": "stream",
     "text": [
      "writing data to: /backup2/synthtiger/bangla/PaddleOCR/horizontal_valid/data.txt\n"
     ]
    },
    {
     "data": {
      "application/vnd.jupyter.widget-view+json": {
       "model_id": "249784e8c4ff4aa793d8a09df53096e9",
       "version_major": 2,
       "version_minor": 0
      },
      "text/plain": [
       "  0%|          | 0/947417 [00:00<?, ?it/s]"
      ]
     },
     "metadata": {},
     "output_type": "display_data"
    },
    {
     "name": "stdout",
     "output_type": "stream",
     "text": [
      "writing data to: /backup2/synthtiger/spatial/data.txt\n"
     ]
    },
    {
     "data": {
      "application/vnd.jupyter.widget-view+json": {
       "model_id": "966fc7d3c8234afc800e0b2c9cbd431b",
       "version_major": 2,
       "version_minor": 0
      },
      "text/plain": [
       "  0%|          | 0/4728506 [00:00<?, ?it/s]"
      ]
     },
     "metadata": {},
     "output_type": "display_data"
    },
    {
     "name": "stdout",
     "output_type": "stream",
     "text": [
      "writing data to: /backup2/synthtiger/bangla/horizontal_part2/data.txt\n"
     ]
    },
    {
     "data": {
      "application/vnd.jupyter.widget-view+json": {
       "model_id": "7ac76ca3727e49c7aa0b15934f51295e",
       "version_major": 2,
       "version_minor": 0
      },
      "text/plain": [
       "  0%|          | 0/4736676 [00:00<?, ?it/s]"
      ]
     },
     "metadata": {},
     "output_type": "display_data"
    },
    {
     "name": "stdout",
     "output_type": "stream",
     "text": [
      "writing data to: /backup2/synthtiger/bangla/horizontal_part2/bn_ocr_horizontal/data.txt\n"
     ]
    },
    {
     "data": {
      "application/vnd.jupyter.widget-view+json": {
       "model_id": "9c4a0441935d4121835f6c2dd077bb6b",
       "version_major": 2,
       "version_minor": 0
      },
      "text/plain": [
       "  0%|          | 0/4736676 [00:00<?, ?it/s]"
      ]
     },
     "metadata": {},
     "output_type": "display_data"
    }
   ],
   "source": [
    "for src in tqdm(srcs):\n",
    "    sdf=df.loc[df.src==src]\n",
    "    print(\"writing data to:\",os.path.join(src,\"data.txt\"))\n",
    "    with open(os.path.join(src,\"data.txt\"),\"w+\") as f:\n",
    "        for idx in tqdm(range(len(sdf))):\n",
    "            fpath=sdf.iloc[idx,0]\n",
    "            word=sdf.iloc[idx,1]\n",
    "            f.write(f\"{fpath}\\t{word}\\n\")\n",
    "\n"
   ]
  },
  {
   "cell_type": "code",
   "execution_count": null,
   "metadata": {},
   "outputs": [],
   "source": []
  }
 ],
 "metadata": {
  "kernelspec": {
   "display_name": "Python 3.8.5 ('bangla')",
   "language": "python",
   "name": "python3"
  },
  "language_info": {
   "codemirror_mode": {
    "name": "ipython",
    "version": 3
   },
   "file_extension": ".py",
   "mimetype": "text/x-python",
   "name": "python",
   "nbconvert_exporter": "python",
   "pygments_lexer": "ipython3",
   "version": "3.8.5"
  },
  "orig_nbformat": 4,
  "vscode": {
   "interpreter": {
    "hash": "83cb0fe33a0a67f9f877ffb776c4b7cce63e124f7ba47fe6878fb868bcc96314"
   }
  }
 },
 "nbformat": 4,
 "nbformat_minor": 2
}
