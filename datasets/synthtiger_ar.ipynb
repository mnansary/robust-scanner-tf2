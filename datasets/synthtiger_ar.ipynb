{
 "cells": [
  {
   "cell_type": "markdown",
   "metadata": {},
   "source": [
    "# Collect all the image paths and label text from gt.txt"
   ]
  },
  {
   "cell_type": "code",
   "execution_count": 1,
   "metadata": {},
   "outputs": [
    {
     "data": {
      "application/vnd.jupyter.widget-view+json": {
       "model_id": "bcd0b1eed6e44d3db1f5451fed851d6a",
       "version_major": 2,
       "version_minor": 0
      },
      "text/plain": [
       "  0%|          | 0/3 [00:00<?, ?it/s]"
      ]
     },
     "metadata": {},
     "output_type": "display_data"
    },
    {
     "name": "stdout",
     "output_type": "stream",
     "text": [
      "/backup2/synthtiger/arabic/horizontal_50lk_part2/gt.txt has : 4729991  data\n"
     ]
    },
    {
     "data": {
      "application/vnd.jupyter.widget-view+json": {
       "model_id": "2087555007fb405bb6f71bd6c1330447",
       "version_major": 2,
       "version_minor": 0
      },
      "text/plain": [
       "  0%|          | 0/4729991 [00:00<?, ?it/s]"
      ]
     },
     "metadata": {},
     "output_type": "display_data"
    },
    {
     "name": "stdout",
     "output_type": "stream",
     "text": [
      "/backup2/synthtiger/arabic/horizontal_fifty_lakh_ar/gt.txt has : 4734048  data\n"
     ]
    },
    {
     "data": {
      "application/vnd.jupyter.widget-view+json": {
       "model_id": "ee6064fb5d48460489dc14ff07646e32",
       "version_major": 2,
       "version_minor": 0
      },
      "text/plain": [
       "  0%|          | 0/4734048 [00:00<?, ?it/s]"
      ]
     },
     "metadata": {},
     "output_type": "display_data"
    },
    {
     "name": "stdout",
     "output_type": "stream",
     "text": [
      "/backup2/synthtiger/arabic/horizontal_one_cr/gt.txt has : 9467101  data\n"
     ]
    },
    {
     "data": {
      "application/vnd.jupyter.widget-view+json": {
       "model_id": "dca4440ed6c3425086d51571c4d78b45",
       "version_major": 2,
       "version_minor": 0
      },
      "text/plain": [
       "  0%|          | 0/9467101 [00:00<?, ?it/s]"
      ]
     },
     "metadata": {},
     "output_type": "display_data"
    }
   ],
   "source": [
    "import os \n",
    "import pandas as pd \n",
    "from glob import glob \n",
    "from tqdm.auto import tqdm\n",
    "\n",
    "dirs=[  '/backup2/synthtiger/arabic/horizontal_50lk_part2/',\n",
    "        '/backup2/synthtiger/arabic/horizontal_fifty_lakh_ar/',\n",
    "        '/backup2/synthtiger/arabic/horizontal_one_cr/',\n",
    "        ]\n",
    "\n",
    "image_paths=[]\n",
    "labels=[]\n",
    "for _dir in tqdm(dirs):\n",
    "    _txt=os.path.join(_dir,\"gt.txt\")\n",
    "    with open(_txt,\"r\") as f:\n",
    "        lines=f.readlines()\n",
    "    print(_txt, \"has :\",len(lines),\" data\")\n",
    "    for line in tqdm(lines):\n",
    "        if line.strip():\n",
    "            if len(line.split(\"\\t\"))==2:\n",
    "                line=line.replace(\"\\n\",\"\")\n",
    "                _path,_label=line.split(\"\\t\")\n",
    "                _path=_dir+_path\n",
    "                image_paths.append(_path)\n",
    "                labels.append(_label)\n",
    "            \n"
   ]
  },
  {
   "cell_type": "markdown",
   "metadata": {},
   "source": [
    "# List all charecters"
   ]
  },
  {
   "cell_type": "code",
   "execution_count": 2,
   "metadata": {},
   "outputs": [
    {
     "data": {
      "application/vnd.jupyter.widget-view+json": {
       "model_id": "671a149862af4d6799c2ca0224537a86",
       "version_major": 2,
       "version_minor": 0
      },
      "text/plain": [
       "  0%|          | 0/18931140 [00:00<?, ?it/s]"
      ]
     },
     "metadata": {},
     "output_type": "display_data"
    },
    {
     "name": "stdout",
     "output_type": "stream",
     "text": [
      "\n",
      "'ك','د','ر','ب','ي','ت','و','ا','ن','س','ه','م','ج','ل','ف','ع','ذ','ح','ص','ى',\n",
      "'ز','أ','ق','ض','خ','ش','غ','ط','ة','إ','ظ','ئ','ث','آ','ء','ؤ',"
     ]
    }
   ],
   "source": [
    "chars=[]\n",
    "for label in tqdm(labels):\n",
    "    for c in label:\n",
    "        if c not in chars:\n",
    "            chars.append(c)\n",
    "for idx,c in enumerate(chars):\n",
    "    if idx%20==0:\n",
    "        print()\n",
    "    print(f\"'{c}'\",end=',')\n"
   ]
  },
  {
   "cell_type": "markdown",
   "metadata": {},
   "source": [
    "# Read dict and match unicodes\n"
   ]
  },
  {
   "cell_type": "code",
   "execution_count": 3,
   "metadata": {},
   "outputs": [
    {
     "name": "stdout",
     "output_type": "stream",
     "text": [
      "\n",
      "'،','؛','؟','ء','آ','أ','ؤ','إ','ئ','ا','ا','ب','ة','ت','ث','ج','ح','خ','د','ذ',\n",
      "'ر','ز','س','ش','ص','ض','ط','ظ','ع','غ','ف','ق','ك','ل','م','ن','ه','و','ى','ي',\n",
      "'ً','ً','ٌ','ٍ','َ','ُ','ِ','ّ','ْ','ٓ','ٔ','٠','١','٢','٣','٤','٥','٦','٧','٨',\n",
      "'٩','ٰ','ٱ','ٹ','پ','چ','ڈ','ڑ','ژ','ک','ڭ','گ','ں','ھ','ۀ','ہ','ۂ','ۃ','ۆ','ۇ',\n",
      "'ۈ','ۋ','ی','ې','ے','ۓ','ە',"
     ]
    }
   ],
   "source": [
    "def get_vocab(vocab_txt):\n",
    "    vocab=[]\n",
    "    with open(vocab_txt,\"r\") as f:\n",
    "        lines=f.readlines()\n",
    "    for line in lines:\n",
    "        if line.strip():\n",
    "            vocab.append(line.strip())\n",
    "    return vocab\n",
    "\n",
    "dict_vocab=get_vocab(\"../vocabs/ar.txt\")\n",
    "for idx,c in enumerate(dict_vocab):\n",
    "    if idx%20==0:\n",
    "        print()\n",
    "    print(f\"'{c}'\",end=',')"
   ]
  },
  {
   "cell_type": "markdown",
   "metadata": {},
   "source": [
    "# Match Vocabs"
   ]
  },
  {
   "cell_type": "markdown",
   "metadata": {},
   "source": [
    "* in dataset but not present in vocab"
   ]
  },
  {
   "cell_type": "code",
   "execution_count": 4,
   "metadata": {},
   "outputs": [],
   "source": [
    "\n",
    "for c in chars:\n",
    "    if c not in dict_vocab:\n",
    "         print(f\"'{c}'\",end=',')\n",
    "    "
   ]
  },
  {
   "cell_type": "markdown",
   "metadata": {},
   "source": [
    "* in vocab but not present in chars"
   ]
  },
  {
   "cell_type": "code",
   "execution_count": 5,
   "metadata": {},
   "outputs": [
    {
     "name": "stdout",
     "output_type": "stream",
     "text": [
      "'،','؛','؟','ً','ً','ٌ','ٍ','َ','ُ','ِ','ّ','ْ','ٓ','ٔ','٠','١','٢','٣','٤','٥','٦','٧','٨','٩','ٰ','ٱ','ٹ','پ','چ','ڈ','ڑ','ژ','ک','ڭ','گ','ں','ھ','ۀ','ہ','ۂ','ۃ','ۆ','ۇ','ۈ','ۋ','ی','ې','ے','ۓ','ە',"
     ]
    }
   ],
   "source": [
    "\n",
    "for c in dict_vocab:\n",
    "    if c not in chars:\n",
    "        print(f\"'{c}'\",end=',')"
   ]
  },
  {
   "cell_type": "markdown",
   "metadata": {},
   "source": [
    "# Saving data.txt\n",
    "* vocabs cover all the data"
   ]
  },
  {
   "cell_type": "code",
   "execution_count": 6,
   "metadata": {},
   "outputs": [
    {
     "data": {
      "text/html": [
       "<div>\n",
       "<style scoped>\n",
       "    .dataframe tbody tr th:only-of-type {\n",
       "        vertical-align: middle;\n",
       "    }\n",
       "\n",
       "    .dataframe tbody tr th {\n",
       "        vertical-align: top;\n",
       "    }\n",
       "\n",
       "    .dataframe thead th {\n",
       "        text-align: right;\n",
       "    }\n",
       "</style>\n",
       "<table border=\"1\" class=\"dataframe\">\n",
       "  <thead>\n",
       "    <tr style=\"text-align: right;\">\n",
       "      <th></th>\n",
       "      <th>filepath</th>\n",
       "      <th>word</th>\n",
       "    </tr>\n",
       "  </thead>\n",
       "  <tbody>\n",
       "    <tr>\n",
       "      <th>0</th>\n",
       "      <td>/backup2/synthtiger/arabic/horizontal_50lk_par...</td>\n",
       "      <td>كدربيت</td>\n",
       "    </tr>\n",
       "    <tr>\n",
       "      <th>1</th>\n",
       "      <td>/backup2/synthtiger/arabic/horizontal_50lk_par...</td>\n",
       "      <td>واكنسنه</td>\n",
       "    </tr>\n",
       "    <tr>\n",
       "      <th>2</th>\n",
       "      <td>/backup2/synthtiger/arabic/horizontal_50lk_par...</td>\n",
       "      <td>وكمجدول</td>\n",
       "    </tr>\n",
       "    <tr>\n",
       "      <th>3</th>\n",
       "      <td>/backup2/synthtiger/arabic/horizontal_50lk_par...</td>\n",
       "      <td>مسافران</td>\n",
       "    </tr>\n",
       "    <tr>\n",
       "      <th>4</th>\n",
       "      <td>/backup2/synthtiger/arabic/horizontal_50lk_par...</td>\n",
       "      <td>عسيلته</td>\n",
       "    </tr>\n",
       "    <tr>\n",
       "      <th>...</th>\n",
       "      <td>...</td>\n",
       "      <td>...</td>\n",
       "    </tr>\n",
       "    <tr>\n",
       "      <th>18931135</th>\n",
       "      <td>/backup2/synthtiger/arabic/horizontal_one_cr/i...</td>\n",
       "      <td>فنيكوتين</td>\n",
       "    </tr>\n",
       "    <tr>\n",
       "      <th>18931136</th>\n",
       "      <td>/backup2/synthtiger/arabic/horizontal_one_cr/i...</td>\n",
       "      <td>كرهتيني</td>\n",
       "    </tr>\n",
       "    <tr>\n",
       "      <th>18931137</th>\n",
       "      <td>/backup2/synthtiger/arabic/horizontal_one_cr/i...</td>\n",
       "      <td>يتنكا</td>\n",
       "    </tr>\n",
       "    <tr>\n",
       "      <th>18931138</th>\n",
       "      <td>/backup2/synthtiger/arabic/horizontal_one_cr/i...</td>\n",
       "      <td>ارمندية</td>\n",
       "    </tr>\n",
       "    <tr>\n",
       "      <th>18931139</th>\n",
       "      <td>/backup2/synthtiger/arabic/horizontal_one_cr/i...</td>\n",
       "      <td>والتئق</td>\n",
       "    </tr>\n",
       "  </tbody>\n",
       "</table>\n",
       "<p>18931140 rows × 2 columns</p>\n",
       "</div>"
      ],
      "text/plain": [
       "                                                   filepath      word\n",
       "0         /backup2/synthtiger/arabic/horizontal_50lk_par...    كدربيت\n",
       "1         /backup2/synthtiger/arabic/horizontal_50lk_par...   واكنسنه\n",
       "2         /backup2/synthtiger/arabic/horizontal_50lk_par...   وكمجدول\n",
       "3         /backup2/synthtiger/arabic/horizontal_50lk_par...   مسافران\n",
       "4         /backup2/synthtiger/arabic/horizontal_50lk_par...    عسيلته\n",
       "...                                                     ...       ...\n",
       "18931135  /backup2/synthtiger/arabic/horizontal_one_cr/i...  فنيكوتين\n",
       "18931136  /backup2/synthtiger/arabic/horizontal_one_cr/i...   كرهتيني\n",
       "18931137  /backup2/synthtiger/arabic/horizontal_one_cr/i...     يتنكا\n",
       "18931138  /backup2/synthtiger/arabic/horizontal_one_cr/i...   ارمندية\n",
       "18931139  /backup2/synthtiger/arabic/horizontal_one_cr/i...    والتئق\n",
       "\n",
       "[18931140 rows x 2 columns]"
      ]
     },
     "execution_count": 6,
     "metadata": {},
     "output_type": "execute_result"
    }
   ],
   "source": [
    "df=pd.DataFrame({\"filepath\":image_paths,\"word\":labels})\n",
    "df"
   ]
  },
  {
   "cell_type": "code",
   "execution_count": 7,
   "metadata": {},
   "outputs": [
    {
     "data": {
      "application/vnd.jupyter.widget-view+json": {
       "model_id": "c7f49d0be18343a1b4a81e078ec0bf76",
       "version_major": 2,
       "version_minor": 0
      },
      "text/plain": [
       "  0%|          | 0/18931140 [00:00<?, ?it/s]"
      ]
     },
     "metadata": {},
     "output_type": "display_data"
    },
    {
     "data": {
      "text/html": [
       "<div>\n",
       "<style scoped>\n",
       "    .dataframe tbody tr th:only-of-type {\n",
       "        vertical-align: middle;\n",
       "    }\n",
       "\n",
       "    .dataframe tbody tr th {\n",
       "        vertical-align: top;\n",
       "    }\n",
       "\n",
       "    .dataframe thead th {\n",
       "        text-align: right;\n",
       "    }\n",
       "</style>\n",
       "<table border=\"1\" class=\"dataframe\">\n",
       "  <thead>\n",
       "    <tr style=\"text-align: right;\">\n",
       "      <th></th>\n",
       "      <th>filepath</th>\n",
       "      <th>word</th>\n",
       "      <th>src</th>\n",
       "    </tr>\n",
       "  </thead>\n",
       "  <tbody>\n",
       "    <tr>\n",
       "      <th>0</th>\n",
       "      <td>/backup2/synthtiger/arabic/horizontal_50lk_par...</td>\n",
       "      <td>كدربيت</td>\n",
       "      <td>/backup2/synthtiger/arabic/horizontal_50lk_part2/</td>\n",
       "    </tr>\n",
       "    <tr>\n",
       "      <th>1</th>\n",
       "      <td>/backup2/synthtiger/arabic/horizontal_50lk_par...</td>\n",
       "      <td>واكنسنه</td>\n",
       "      <td>/backup2/synthtiger/arabic/horizontal_50lk_part2/</td>\n",
       "    </tr>\n",
       "    <tr>\n",
       "      <th>2</th>\n",
       "      <td>/backup2/synthtiger/arabic/horizontal_50lk_par...</td>\n",
       "      <td>وكمجدول</td>\n",
       "      <td>/backup2/synthtiger/arabic/horizontal_50lk_part2/</td>\n",
       "    </tr>\n",
       "    <tr>\n",
       "      <th>3</th>\n",
       "      <td>/backup2/synthtiger/arabic/horizontal_50lk_par...</td>\n",
       "      <td>مسافران</td>\n",
       "      <td>/backup2/synthtiger/arabic/horizontal_50lk_part2/</td>\n",
       "    </tr>\n",
       "    <tr>\n",
       "      <th>4</th>\n",
       "      <td>/backup2/synthtiger/arabic/horizontal_50lk_par...</td>\n",
       "      <td>عسيلته</td>\n",
       "      <td>/backup2/synthtiger/arabic/horizontal_50lk_part2/</td>\n",
       "    </tr>\n",
       "    <tr>\n",
       "      <th>...</th>\n",
       "      <td>...</td>\n",
       "      <td>...</td>\n",
       "      <td>...</td>\n",
       "    </tr>\n",
       "    <tr>\n",
       "      <th>18931135</th>\n",
       "      <td>/backup2/synthtiger/arabic/horizontal_one_cr/i...</td>\n",
       "      <td>فنيكوتين</td>\n",
       "      <td>/backup2/synthtiger/arabic/horizontal_one_cr/</td>\n",
       "    </tr>\n",
       "    <tr>\n",
       "      <th>18931136</th>\n",
       "      <td>/backup2/synthtiger/arabic/horizontal_one_cr/i...</td>\n",
       "      <td>كرهتيني</td>\n",
       "      <td>/backup2/synthtiger/arabic/horizontal_one_cr/</td>\n",
       "    </tr>\n",
       "    <tr>\n",
       "      <th>18931137</th>\n",
       "      <td>/backup2/synthtiger/arabic/horizontal_one_cr/i...</td>\n",
       "      <td>يتنكا</td>\n",
       "      <td>/backup2/synthtiger/arabic/horizontal_one_cr/</td>\n",
       "    </tr>\n",
       "    <tr>\n",
       "      <th>18931138</th>\n",
       "      <td>/backup2/synthtiger/arabic/horizontal_one_cr/i...</td>\n",
       "      <td>ارمندية</td>\n",
       "      <td>/backup2/synthtiger/arabic/horizontal_one_cr/</td>\n",
       "    </tr>\n",
       "    <tr>\n",
       "      <th>18931139</th>\n",
       "      <td>/backup2/synthtiger/arabic/horizontal_one_cr/i...</td>\n",
       "      <td>والتئق</td>\n",
       "      <td>/backup2/synthtiger/arabic/horizontal_one_cr/</td>\n",
       "    </tr>\n",
       "  </tbody>\n",
       "</table>\n",
       "<p>18931140 rows × 3 columns</p>\n",
       "</div>"
      ],
      "text/plain": [
       "                                                   filepath      word  \\\n",
       "0         /backup2/synthtiger/arabic/horizontal_50lk_par...    كدربيت   \n",
       "1         /backup2/synthtiger/arabic/horizontal_50lk_par...   واكنسنه   \n",
       "2         /backup2/synthtiger/arabic/horizontal_50lk_par...   وكمجدول   \n",
       "3         /backup2/synthtiger/arabic/horizontal_50lk_par...   مسافران   \n",
       "4         /backup2/synthtiger/arabic/horizontal_50lk_par...    عسيلته   \n",
       "...                                                     ...       ...   \n",
       "18931135  /backup2/synthtiger/arabic/horizontal_one_cr/i...  فنيكوتين   \n",
       "18931136  /backup2/synthtiger/arabic/horizontal_one_cr/i...   كرهتيني   \n",
       "18931137  /backup2/synthtiger/arabic/horizontal_one_cr/i...     يتنكا   \n",
       "18931138  /backup2/synthtiger/arabic/horizontal_one_cr/i...   ارمندية   \n",
       "18931139  /backup2/synthtiger/arabic/horizontal_one_cr/i...    والتئق   \n",
       "\n",
       "                                                        src  \n",
       "0         /backup2/synthtiger/arabic/horizontal_50lk_part2/  \n",
       "1         /backup2/synthtiger/arabic/horizontal_50lk_part2/  \n",
       "2         /backup2/synthtiger/arabic/horizontal_50lk_part2/  \n",
       "3         /backup2/synthtiger/arabic/horizontal_50lk_part2/  \n",
       "4         /backup2/synthtiger/arabic/horizontal_50lk_part2/  \n",
       "...                                                     ...  \n",
       "18931135      /backup2/synthtiger/arabic/horizontal_one_cr/  \n",
       "18931136      /backup2/synthtiger/arabic/horizontal_one_cr/  \n",
       "18931137      /backup2/synthtiger/arabic/horizontal_one_cr/  \n",
       "18931138      /backup2/synthtiger/arabic/horizontal_one_cr/  \n",
       "18931139      /backup2/synthtiger/arabic/horizontal_one_cr/  \n",
       "\n",
       "[18931140 rows x 3 columns]"
      ]
     },
     "execution_count": 7,
     "metadata": {},
     "output_type": "execute_result"
    }
   ],
   "source": [
    "tqdm.pandas()\n",
    "df[\"src\"]=df[\"filepath\"].progress_apply(lambda x:x.split(\"images\")[0])\n",
    "df"
   ]
  },
  {
   "cell_type": "code",
   "execution_count": 8,
   "metadata": {},
   "outputs": [
    {
     "data": {
      "text/plain": [
       "array(['/backup2/synthtiger/arabic/horizontal_50lk_part2/',\n",
       "       '/backup2/synthtiger/arabic/horizontal_fifty_lakh_ar/',\n",
       "       '/backup2/synthtiger/arabic/horizontal_one_cr/'], dtype=object)"
      ]
     },
     "execution_count": 8,
     "metadata": {},
     "output_type": "execute_result"
    }
   ],
   "source": [
    "srcs=df.src.unique()\n",
    "srcs"
   ]
  },
  {
   "cell_type": "code",
   "execution_count": 9,
   "metadata": {},
   "outputs": [
    {
     "data": {
      "application/vnd.jupyter.widget-view+json": {
       "model_id": "8a80843dee0c42f19ce47ca2fd7f966d",
       "version_major": 2,
       "version_minor": 0
      },
      "text/plain": [
       "  0%|          | 0/3 [00:00<?, ?it/s]"
      ]
     },
     "metadata": {},
     "output_type": "display_data"
    },
    {
     "name": "stdout",
     "output_type": "stream",
     "text": [
      "writing data to: /backup2/synthtiger/arabic/horizontal_50lk_part2/data.txt\n"
     ]
    },
    {
     "data": {
      "application/vnd.jupyter.widget-view+json": {
       "model_id": "49fcd550f1504f7785e656c73f9b1625",
       "version_major": 2,
       "version_minor": 0
      },
      "text/plain": [
       "  0%|          | 0/4729991 [00:00<?, ?it/s]"
      ]
     },
     "metadata": {},
     "output_type": "display_data"
    },
    {
     "name": "stdout",
     "output_type": "stream",
     "text": [
      "writing data to: /backup2/synthtiger/arabic/horizontal_fifty_lakh_ar/data.txt\n"
     ]
    },
    {
     "data": {
      "application/vnd.jupyter.widget-view+json": {
       "model_id": "542194f745114a56904fa62ac40b1e10",
       "version_major": 2,
       "version_minor": 0
      },
      "text/plain": [
       "  0%|          | 0/4734048 [00:00<?, ?it/s]"
      ]
     },
     "metadata": {},
     "output_type": "display_data"
    },
    {
     "name": "stdout",
     "output_type": "stream",
     "text": [
      "writing data to: /backup2/synthtiger/arabic/horizontal_one_cr/data.txt\n"
     ]
    },
    {
     "data": {
      "application/vnd.jupyter.widget-view+json": {
       "model_id": "549871f62f364f79b829d7f509358530",
       "version_major": 2,
       "version_minor": 0
      },
      "text/plain": [
       "  0%|          | 0/9467101 [00:00<?, ?it/s]"
      ]
     },
     "metadata": {},
     "output_type": "display_data"
    }
   ],
   "source": [
    "for src in tqdm(srcs):\n",
    "    sdf=df.loc[df.src==src]\n",
    "    print(\"writing data to:\",os.path.join(src,\"data.txt\"))\n",
    "    with open(os.path.join(src,\"data.txt\"),\"w+\") as f:\n",
    "        for idx in tqdm(range(len(sdf))):\n",
    "            fpath=sdf.iloc[idx,0]\n",
    "            word=sdf.iloc[idx,1]\n",
    "            f.write(f\"{fpath}\\t{word}\\n\")\n",
    "\n"
   ]
  },
  {
   "cell_type": "code",
   "execution_count": null,
   "metadata": {},
   "outputs": [],
   "source": []
  }
 ],
 "metadata": {
  "kernelspec": {
   "display_name": "Python 3.8.5 ('bangla')",
   "language": "python",
   "name": "python3"
  },
  "language_info": {
   "codemirror_mode": {
    "name": "ipython",
    "version": 3
   },
   "file_extension": ".py",
   "mimetype": "text/x-python",
   "name": "python",
   "nbconvert_exporter": "python",
   "pygments_lexer": "ipython3",
   "version": "3.8.5"
  },
  "orig_nbformat": 4,
  "vscode": {
   "interpreter": {
    "hash": "83cb0fe33a0a67f9f877ffb776c4b7cce63e124f7ba47fe6878fb868bcc96314"
   }
  }
 },
 "nbformat": 4,
 "nbformat_minor": 2
}
